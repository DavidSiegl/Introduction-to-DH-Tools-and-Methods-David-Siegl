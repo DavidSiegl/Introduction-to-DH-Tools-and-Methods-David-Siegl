{
 "cells": [
  {
   "cell_type": "code",
   "execution_count": 2,
   "metadata": {},
   "outputs": [],
   "source": [
    "import pandas as pd\n",
    "import matplotlib.pyplot as plt\n",
    "import numpy as np\n",
    "import seaborn as sb"
   ]
  },
  {
   "cell_type": "code",
   "execution_count": 3,
   "metadata": {},
   "outputs": [],
   "source": [
    "locations = pd.read_csv('C:/Users/sched/Documents/Uni/Digital Humanities/UE - Introduction to DH Tools and Methods/Own Dataset/Arno Schmidt_locations.csv', sep =';')\n",
    "\n",
    "works = pd.read_csv('C:/Users/sched/Documents/Uni/Digital Humanities/UE - Introduction to DH Tools and Methods/Own Dataset/Arno Schmidt_works.csv', sep = ';')"
   ]
  },
  {
   "cell_type": "code",
   "execution_count": 3,
   "metadata": {},
   "outputs": [
    {
     "data": {
      "text/html": [
       "<div>\n",
       "<style scoped>\n",
       "    .dataframe tbody tr th:only-of-type {\n",
       "        vertical-align: middle;\n",
       "    }\n",
       "\n",
       "    .dataframe tbody tr th {\n",
       "        vertical-align: top;\n",
       "    }\n",
       "\n",
       "    .dataframe thead th {\n",
       "        text-align: right;\n",
       "    }\n",
       "</style>\n",
       "<table border=\"1\" class=\"dataframe\">\n",
       "  <thead>\n",
       "    <tr style=\"text-align: right;\">\n",
       "      <th></th>\n",
       "      <th>address</th>\n",
       "      <th>location</th>\n",
       "      <th>state</th>\n",
       "      <th>country</th>\n",
       "      <th>category</th>\n",
       "      <th>moved_in</th>\n",
       "      <th>moved_out</th>\n",
       "    </tr>\n",
       "  </thead>\n",
       "  <tbody>\n",
       "    <tr>\n",
       "      <th>0</th>\n",
       "      <td>Rumpffsweg 27</td>\n",
       "      <td>Hamm</td>\n",
       "      <td>Nordrhein-Westfalen</td>\n",
       "      <td>Germany</td>\n",
       "      <td>city</td>\n",
       "      <td>1914</td>\n",
       "      <td>1928</td>\n",
       "    </tr>\n",
       "    <tr>\n",
       "      <th>1</th>\n",
       "      <td>Laubaner Walkgasse 12</td>\n",
       "      <td>Lauban</td>\n",
       "      <td>Schlesien</td>\n",
       "      <td>Prussia</td>\n",
       "      <td>city</td>\n",
       "      <td>1928</td>\n",
       "      <td>1938</td>\n",
       "    </tr>\n",
       "    <tr>\n",
       "      <th>2</th>\n",
       "      <td>Greiffenberger Schützenstraße 4</td>\n",
       "      <td>Greiffenberg</td>\n",
       "      <td>Niederschlesien</td>\n",
       "      <td>Prussia</td>\n",
       "      <td>city</td>\n",
       "      <td>1938</td>\n",
       "      <td>1940</td>\n",
       "    </tr>\n",
       "    <tr>\n",
       "      <th>3</th>\n",
       "      <td>Arras-Kaserne</td>\n",
       "      <td>Hirschberg</td>\n",
       "      <td>Sudetenland</td>\n",
       "      <td>Germany</td>\n",
       "      <td>city</td>\n",
       "      <td>1940</td>\n",
       "      <td>1941</td>\n",
       "    </tr>\n",
       "    <tr>\n",
       "      <th>4</th>\n",
       "      <td>Garnison Hagenau</td>\n",
       "      <td>Hagenau</td>\n",
       "      <td>Elsass</td>\n",
       "      <td>Germany</td>\n",
       "      <td>city</td>\n",
       "      <td>1941</td>\n",
       "      <td>1941</td>\n",
       "    </tr>\n",
       "  </tbody>\n",
       "</table>\n",
       "</div>"
      ],
      "text/plain": [
       "                           address      location                state  \\\n",
       "0                    Rumpffsweg 27          Hamm  Nordrhein-Westfalen   \n",
       "1            Laubaner Walkgasse 12        Lauban            Schlesien   \n",
       "2  Greiffenberger Schützenstraße 4  Greiffenberg      Niederschlesien   \n",
       "3                    Arras-Kaserne    Hirschberg          Sudetenland   \n",
       "4                 Garnison Hagenau       Hagenau               Elsass   \n",
       "\n",
       "   country category  moved_in  moved_out  \n",
       "0  Germany     city      1914       1928  \n",
       "1  Prussia     city      1928       1938  \n",
       "2  Prussia     city      1938       1940  \n",
       "3  Germany     city      1940       1941  \n",
       "4  Germany     city      1941       1941  "
      ]
     },
     "execution_count": 3,
     "metadata": {},
     "output_type": "execute_result"
    }
   ],
   "source": [
    "locations.head()"
   ]
  },
  {
   "cell_type": "code",
   "execution_count": 4,
   "metadata": {},
   "outputs": [
    {
     "data": {
      "text/html": [
       "<div>\n",
       "<style scoped>\n",
       "    .dataframe tbody tr th:only-of-type {\n",
       "        vertical-align: middle;\n",
       "    }\n",
       "\n",
       "    .dataframe tbody tr th {\n",
       "        vertical-align: top;\n",
       "    }\n",
       "\n",
       "    .dataframe thead th {\n",
       "        text-align: right;\n",
       "    }\n",
       "</style>\n",
       "<table border=\"1\" class=\"dataframe\">\n",
       "  <thead>\n",
       "    <tr style=\"text-align: right;\">\n",
       "      <th></th>\n",
       "      <th>title</th>\n",
       "      <th>year</th>\n",
       "      <th>reference_location</th>\n",
       "      <th>protagonist</th>\n",
       "    </tr>\n",
       "  </thead>\n",
       "  <tbody>\n",
       "    <tr>\n",
       "      <th>0</th>\n",
       "      <td>Gadir oder erkenne dich</td>\n",
       "      <td>1949</td>\n",
       "      <td>dungeon</td>\n",
       "      <td>dreams about escaping from dungeon</td>\n",
       "    </tr>\n",
       "    <tr>\n",
       "      <th>1</th>\n",
       "      <td>Enthymesis</td>\n",
       "      <td>1949</td>\n",
       "      <td>desert</td>\n",
       "      <td>escapes on his own into the desert</td>\n",
       "    </tr>\n",
       "    <tr>\n",
       "      <th>2</th>\n",
       "      <td>Brand's Haide</td>\n",
       "      <td>1951</td>\n",
       "      <td>village Blakenhof</td>\n",
       "      <td>spends his time after the war in the rural are...</td>\n",
       "    </tr>\n",
       "    <tr>\n",
       "      <th>3</th>\n",
       "      <td>Schwarze Spiegel</td>\n",
       "      <td>1951</td>\n",
       "      <td>deserted wasteland</td>\n",
       "      <td>wanders through a fictious German wasteland af...</td>\n",
       "    </tr>\n",
       "    <tr>\n",
       "      <th>4</th>\n",
       "      <td>Aus dem Leben eines Fauns</td>\n",
       "      <td>1953</td>\n",
       "      <td>abandoned cottage</td>\n",
       "      <td>retreats into an abandoned cottage</td>\n",
       "    </tr>\n",
       "  </tbody>\n",
       "</table>\n",
       "</div>"
      ],
      "text/plain": [
       "                       title  year  reference_location  \\\n",
       "0    Gadir oder erkenne dich  1949             dungeon   \n",
       "1                 Enthymesis  1949              desert   \n",
       "2              Brand's Haide  1951   village Blakenhof   \n",
       "3           Schwarze Spiegel  1951  deserted wasteland   \n",
       "4  Aus dem Leben eines Fauns  1953   abandoned cottage   \n",
       "\n",
       "                                        protagonist   \n",
       "0                 dreams about escaping from dungeon  \n",
       "1                 escapes on his own into the desert  \n",
       "2  spends his time after the war in the rural are...  \n",
       "3  wanders through a fictious German wasteland af...  \n",
       "4                 retreats into an abandoned cottage  "
      ]
     },
     "execution_count": 4,
     "metadata": {},
     "output_type": "execute_result"
    }
   ],
   "source": [
    "works.head()"
   ]
  },
  {
   "cell_type": "code",
   "execution_count": 5,
   "metadata": {},
   "outputs": [
    {
     "data": {
      "image/png": "[encoded data removed]",
      "text/plain": [
       "<Figure size 432x288 with 1 Axes>"
      ]
     },
     "metadata": {},
     "output_type": "display_data"
    }
   ],
   "source": [
    "sb.set_theme(style=\"whitegrid\")\n",
    "plt.title(\"Duration per country\")\n",
    "locations_duration = locations\n",
    "locations_duration['duration'] = locations.moved_out - locations.moved_in\n",
    "vis1 = sb.barplot(x=\"country\", y=\"duration\", data = locations_duration, estimator = sum)\n",
    "vis1.set_xticklabels(vis1.get_xticklabels(), rotation=40, ha=\"right\")\n",
    "plt.tight_layout()\n",
    "plt.show()"
   ]
  },
  {
   "cell_type": "code",
   "execution_count": 6,
   "metadata": {},
   "outputs": [
    {
     "data": {
      "image/png": "[encoded data removed]",
      "text/plain": [
       "<Figure size 432x288 with 1 Axes>"
      ]
     },
     "metadata": {},
     "output_type": "display_data"
    }
   ],
   "source": [
    "locations_without_0 = locations_duration[locations_duration.duration != 0]\n",
    "plt.title(\"Duration per location\")\n",
    "vis2 = sb.barplot(x=\"location\", y=\"duration\", data = locations_without_0, estimator = sum, hue = \"category\")\n",
    "vis2.set_xticklabels(vis2.get_xticklabels(), rotation=40, ha=\"right\")\n",
    "plt.tight_layout()\n",
    "plt.show()"
   ]
  },
  {
   "cell_type": "code",
   "execution_count": 7,
   "metadata": {},
   "outputs": [
    {
     "data": {
      "image/png": "[encoded data removed]",
      "text/plain": [
       "<Figure size 432x288 with 1 Axes>"
      ]
     },
     "metadata": {},
     "output_type": "display_data"
    }
   ],
   "source": [
    "plt.title(\"Duration per state\")\n",
    "vis3 = sb.barplot(x=\"state\", y=\"duration\", data = locations_without_0, estimator = sum)\n",
    "vis3.set_xticklabels(vis3.get_xticklabels(), rotation=40, ha=\"right\")\n",
    "plt.tight_layout()\n",
    "plt.show()"
   ]
  },
  {
   "cell_type": "code",
   "execution_count": 11,
   "metadata": {},
   "outputs": [
    {
     "data": {
      "image/png": "[encoded data removed]",
      "text/plain": [
       "<Figure size 432x288 with 1 Axes>"
      ]
     },
     "metadata": {
      "needs_background": "light"
     },
     "output_type": "display_data"
    }
   ],
   "source": [
    "works_grouped = works.groupby(\"year\").count().reset_index(\"year\")\n",
    "plt.title(\"Number of works per year\")\n",
    "vis4 = sb.barplot(x=\"year\", y=\"title\", data = works_grouped, palette=\"dark\")\n",
    "vis4.set_xticklabels(vis4.get_xticklabels(), rotation=40, ha=\"right\")\n",
    "plt.tight_layout()\n",
    "plt.ylabel(\"works\")\n",
    "plt.show()"
   ]
  },
  {
   "cell_type": "code",
   "execution_count": 9,
   "metadata": {},
   "outputs": [
    {
     "data": {
      "text/html": [
       "<div>\n",
       "<style scoped>\n",
       "    .dataframe tbody tr th:only-of-type {\n",
       "        vertical-align: middle;\n",
       "    }\n",
       "\n",
       "    .dataframe tbody tr th {\n",
       "        vertical-align: top;\n",
       "    }\n",
       "\n",
       "    .dataframe thead th {\n",
       "        text-align: right;\n",
       "    }\n",
       "</style>\n",
       "<table border=\"1\" class=\"dataframe\">\n",
       "  <thead>\n",
       "    <tr style=\"text-align: right;\">\n",
       "      <th></th>\n",
       "      <th>title</th>\n",
       "      <th>year</th>\n",
       "      <th>reference_location</th>\n",
       "      <th>protagonist</th>\n",
       "      <th>bargfeld</th>\n",
       "    </tr>\n",
       "  </thead>\n",
       "  <tbody>\n",
       "    <tr>\n",
       "      <th>13</th>\n",
       "      <td>Kaff auch Mare Crisium</td>\n",
       "      <td>1960</td>\n",
       "      <td>Bargfeld</td>\n",
       "      <td>dreams about owning a house in Bargfeld</td>\n",
       "      <td>True</td>\n",
       "    </tr>\n",
       "    <tr>\n",
       "      <th>15</th>\n",
       "      <td>Windmühlen</td>\n",
       "      <td>1960</td>\n",
       "      <td>south of Bargfeld</td>\n",
       "      <td>wanders with a friend through the countryside</td>\n",
       "      <td>True</td>\n",
       "    </tr>\n",
       "    <tr>\n",
       "      <th>20</th>\n",
       "      <td>Piporakemes!</td>\n",
       "      <td>1962</td>\n",
       "      <td>house in Bargfeld</td>\n",
       "      <td>owns a house in Bargfeld</td>\n",
       "      <td>True</td>\n",
       "    </tr>\n",
       "    <tr>\n",
       "      <th>24</th>\n",
       "      <td>Abend mit Goldrand</td>\n",
       "      <td>1975</td>\n",
       "      <td>house in Bargfeld</td>\n",
       "      <td>lives with other seniors in a house at the edg...</td>\n",
       "      <td>True</td>\n",
       "    </tr>\n",
       "  </tbody>\n",
       "</table>\n",
       "</div>"
      ],
      "text/plain": [
       "                     title  year reference_location  \\\n",
       "13  Kaff auch Mare Crisium  1960           Bargfeld   \n",
       "15              Windmühlen  1960  south of Bargfeld   \n",
       "20            Piporakemes!  1962  house in Bargfeld   \n",
       "24      Abend mit Goldrand  1975  house in Bargfeld   \n",
       "\n",
       "                                         protagonist   bargfeld  \n",
       "13            dreams about owning a house in Bargfeld      True  \n",
       "15      wanders with a friend through the countryside      True  \n",
       "20                           owns a house in Bargfeld      True  \n",
       "24  lives with other seniors in a house at the edg...      True  "
      ]
     },
     "execution_count": 9,
     "metadata": {},
     "output_type": "execute_result"
    }
   ],
   "source": [
    "works['bargfeld'] = works.reference_location.str.contains('Bargfeld')\n",
    "works.loc[works['bargfeld'] == True]"
   ]
  },
  {
   "cell_type": "code",
   "execution_count": 10,
   "metadata": {},
   "outputs": [
    {
     "data": {
      "text/html": [
       "<div>\n",
       "<style scoped>\n",
       "    .dataframe tbody tr th:only-of-type {\n",
       "        vertical-align: middle;\n",
       "    }\n",
       "\n",
       "    .dataframe tbody tr th {\n",
       "        vertical-align: top;\n",
       "    }\n",
       "\n",
       "    .dataframe thead th {\n",
       "        text-align: right;\n",
       "    }\n",
       "</style>\n",
       "<table border=\"1\" class=\"dataframe\">\n",
       "  <thead>\n",
       "    <tr style=\"text-align: right;\">\n",
       "      <th></th>\n",
       "      <th>category</th>\n",
       "      <th>address</th>\n",
       "    </tr>\n",
       "  </thead>\n",
       "  <tbody>\n",
       "    <tr>\n",
       "      <th>0</th>\n",
       "      <td>city</td>\n",
       "      <td>9</td>\n",
       "    </tr>\n",
       "  </tbody>\n",
       "</table>\n",
       "</div>"
      ],
      "text/plain": [
       "  category  address\n",
       "0     city        9"
      ]
     },
     "execution_count": 10,
     "metadata": {},
     "output_type": "execute_result"
    }
   ],
   "source": [
    "city = locations_duration.loc[locations_duration['category'] == \"city\"].groupby(\"category\")[\"address\"].count().reset_index(\"category\")\n",
    "city"
   ]
  },
  {
   "cell_type": "code",
   "execution_count": 11,
   "metadata": {},
   "outputs": [
    {
     "data": {
      "text/html": [
       "<div>\n",
       "<style scoped>\n",
       "    .dataframe tbody tr th:only-of-type {\n",
       "        vertical-align: middle;\n",
       "    }\n",
       "\n",
       "    .dataframe tbody tr th {\n",
       "        vertical-align: top;\n",
       "    }\n",
       "\n",
       "    .dataframe thead th {\n",
       "        text-align: right;\n",
       "    }\n",
       "</style>\n",
       "<table border=\"1\" class=\"dataframe\">\n",
       "  <thead>\n",
       "    <tr style=\"text-align: right;\">\n",
       "      <th></th>\n",
       "      <th>category</th>\n",
       "      <th>address</th>\n",
       "    </tr>\n",
       "  </thead>\n",
       "  <tbody>\n",
       "    <tr>\n",
       "      <th>0</th>\n",
       "      <td>village</td>\n",
       "      <td>4</td>\n",
       "    </tr>\n",
       "  </tbody>\n",
       "</table>\n",
       "</div>"
      ],
      "text/plain": [
       "  category  address\n",
       "0  village        4"
      ]
     },
     "execution_count": 11,
     "metadata": {},
     "output_type": "execute_result"
    }
   ],
   "source": [
    "village = locations_duration.loc[locations_duration['category'] == \"village\"].groupby(\"category\")[\"address\"].count().reset_index(\"category\")\n",
    "village"
   ]
  },
  {
   "cell_type": "code",
   "execution_count": 12,
   "metadata": {},
   "outputs": [
    {
     "data": {
      "text/html": [
       "<div>\n",
       "<style scoped>\n",
       "    .dataframe tbody tr th:only-of-type {\n",
       "        vertical-align: middle;\n",
       "    }\n",
       "\n",
       "    .dataframe tbody tr th {\n",
       "        vertical-align: top;\n",
       "    }\n",
       "\n",
       "    .dataframe thead th {\n",
       "        text-align: right;\n",
       "    }\n",
       "</style>\n",
       "<table border=\"1\" class=\"dataframe\">\n",
       "  <thead>\n",
       "    <tr style=\"text-align: right;\">\n",
       "      <th></th>\n",
       "      <th>category</th>\n",
       "      <th>duration</th>\n",
       "    </tr>\n",
       "  </thead>\n",
       "  <tbody>\n",
       "    <tr>\n",
       "      <th>0</th>\n",
       "      <td>city</td>\n",
       "      <td>31</td>\n",
       "    </tr>\n",
       "  </tbody>\n",
       "</table>\n",
       "</div>"
      ],
      "text/plain": [
       "  category  duration\n",
       "0     city        31"
      ]
     },
     "execution_count": 12,
     "metadata": {},
     "output_type": "execute_result"
    }
   ],
   "source": [
    "city_duration = locations_duration.loc[locations_duration['category'] == \"city\"].groupby(\"category\")[\"duration\"].sum().reset_index(\"category\")\n",
    "city_duration"
   ]
  },
  {
   "cell_type": "code",
   "execution_count": 13,
   "metadata": {},
   "outputs": [
    {
     "data": {
      "text/html": [
       "<div>\n",
       "<style scoped>\n",
       "    .dataframe tbody tr th:only-of-type {\n",
       "        vertical-align: middle;\n",
       "    }\n",
       "\n",
       "    .dataframe tbody tr th {\n",
       "        vertical-align: top;\n",
       "    }\n",
       "\n",
       "    .dataframe thead th {\n",
       "        text-align: right;\n",
       "    }\n",
       "</style>\n",
       "<table border=\"1\" class=\"dataframe\">\n",
       "  <thead>\n",
       "    <tr style=\"text-align: right;\">\n",
       "      <th></th>\n",
       "      <th>category</th>\n",
       "      <th>duration</th>\n",
       "    </tr>\n",
       "  </thead>\n",
       "  <tbody>\n",
       "    <tr>\n",
       "      <th>0</th>\n",
       "      <td>village</td>\n",
       "      <td>34</td>\n",
       "    </tr>\n",
       "  </tbody>\n",
       "</table>\n",
       "</div>"
      ],
      "text/plain": [
       "  category  duration\n",
       "0  village        34"
      ]
     },
     "execution_count": 13,
     "metadata": {},
     "output_type": "execute_result"
    }
   ],
   "source": [
    "village_duration = locations_duration.loc[locations_duration['category'] == \"village\"].groupby(\"category\")[\"duration\"].sum().reset_index(\"category\")\n",
    "village_duration"
   ]
  },
  {
   "cell_type": "code",
   "execution_count": 104,
   "metadata": {},
   "outputs": [
    {
     "data": {
      "text/html": [
       "<div>\n",
       "<style scoped>\n",
       "    .dataframe tbody tr th:only-of-type {\n",
       "        vertical-align: middle;\n",
       "    }\n",
       "\n",
       "    .dataframe tbody tr th {\n",
       "        vertical-align: top;\n",
       "    }\n",
       "\n",
       "    .dataframe thead th {\n",
       "        text-align: right;\n",
       "    }\n",
       "</style>\n",
       "<table border=\"1\" class=\"dataframe\">\n",
       "  <thead>\n",
       "    <tr style=\"text-align: right;\">\n",
       "      <th></th>\n",
       "      <th>address</th>\n",
       "      <th>location</th>\n",
       "      <th>state</th>\n",
       "      <th>country</th>\n",
       "      <th>category</th>\n",
       "      <th>year</th>\n",
       "    </tr>\n",
       "  </thead>\n",
       "  <tbody>\n",
       "    <tr>\n",
       "      <th>0</th>\n",
       "      <td>Mühlenhof</td>\n",
       "      <td>Cordingen</td>\n",
       "      <td>Niedersachsen</td>\n",
       "      <td>Germany</td>\n",
       "      <td>village</td>\n",
       "      <td>1945</td>\n",
       "    </tr>\n",
       "    <tr>\n",
       "      <th>1</th>\n",
       "      <td>Mühlenhof</td>\n",
       "      <td>Cordingen</td>\n",
       "      <td>Niedersachsen</td>\n",
       "      <td>Germany</td>\n",
       "      <td>village</td>\n",
       "      <td>1946</td>\n",
       "    </tr>\n",
       "    <tr>\n",
       "      <th>2</th>\n",
       "      <td>Mühlenhof</td>\n",
       "      <td>Cordingen</td>\n",
       "      <td>Niedersachsen</td>\n",
       "      <td>Germany</td>\n",
       "      <td>village</td>\n",
       "      <td>1947</td>\n",
       "    </tr>\n",
       "    <tr>\n",
       "      <th>3</th>\n",
       "      <td>Mühlenhof</td>\n",
       "      <td>Cordingen</td>\n",
       "      <td>Niedersachsen</td>\n",
       "      <td>Germany</td>\n",
       "      <td>village</td>\n",
       "      <td>1948</td>\n",
       "    </tr>\n",
       "    <tr>\n",
       "      <th>4</th>\n",
       "      <td>Mühlenhof</td>\n",
       "      <td>Cordingen</td>\n",
       "      <td>Niedersachsen</td>\n",
       "      <td>Germany</td>\n",
       "      <td>village</td>\n",
       "      <td>1949</td>\n",
       "    </tr>\n",
       "    <tr>\n",
       "      <th>5</th>\n",
       "      <td>Mühlenhof</td>\n",
       "      <td>Cordingen</td>\n",
       "      <td>Niedersachsen</td>\n",
       "      <td>Germany</td>\n",
       "      <td>village</td>\n",
       "      <td>1950</td>\n",
       "    </tr>\n",
       "    <tr>\n",
       "      <th>0</th>\n",
       "      <td>Haus Nr. 63</td>\n",
       "      <td>Kastel</td>\n",
       "      <td>Rheinland-Pfalz</td>\n",
       "      <td>Germany</td>\n",
       "      <td>village</td>\n",
       "      <td>1951</td>\n",
       "    </tr>\n",
       "    <tr>\n",
       "      <th>1</th>\n",
       "      <td>Haus Nr. 63</td>\n",
       "      <td>Kastel</td>\n",
       "      <td>Rheinland-Pfalz</td>\n",
       "      <td>Germany</td>\n",
       "      <td>village</td>\n",
       "      <td>1952</td>\n",
       "    </tr>\n",
       "    <tr>\n",
       "      <th>2</th>\n",
       "      <td>Haus Nr. 63</td>\n",
       "      <td>Kastel</td>\n",
       "      <td>Rheinland-Pfalz</td>\n",
       "      <td>Germany</td>\n",
       "      <td>village</td>\n",
       "      <td>1953</td>\n",
       "    </tr>\n",
       "    <tr>\n",
       "      <th>3</th>\n",
       "      <td>Haus Nr. 63</td>\n",
       "      <td>Kastel</td>\n",
       "      <td>Rheinland-Pfalz</td>\n",
       "      <td>Germany</td>\n",
       "      <td>village</td>\n",
       "      <td>1954</td>\n",
       "    </tr>\n",
       "    <tr>\n",
       "      <th>4</th>\n",
       "      <td>Haus Nr. 63</td>\n",
       "      <td>Kastel</td>\n",
       "      <td>Rheinland-Pfalz</td>\n",
       "      <td>Germany</td>\n",
       "      <td>village</td>\n",
       "      <td>1955</td>\n",
       "    </tr>\n",
       "    <tr>\n",
       "      <th>0</th>\n",
       "      <td>Inselstraße</td>\n",
       "      <td>Darmstadt</td>\n",
       "      <td>Hessen</td>\n",
       "      <td>Germany</td>\n",
       "      <td>city</td>\n",
       "      <td>1956</td>\n",
       "    </tr>\n",
       "    <tr>\n",
       "      <th>1</th>\n",
       "      <td>Inselstraße</td>\n",
       "      <td>Darmstadt</td>\n",
       "      <td>Hessen</td>\n",
       "      <td>Germany</td>\n",
       "      <td>city</td>\n",
       "      <td>1957</td>\n",
       "    </tr>\n",
       "    <tr>\n",
       "      <th>2</th>\n",
       "      <td>Inselstraße</td>\n",
       "      <td>Darmstadt</td>\n",
       "      <td>Hessen</td>\n",
       "      <td>Germany</td>\n",
       "      <td>city</td>\n",
       "      <td>1958</td>\n",
       "    </tr>\n",
       "    <tr>\n",
       "      <th>0</th>\n",
       "      <td>Haus Nr. 67</td>\n",
       "      <td>Bargfeld</td>\n",
       "      <td>Niedersachsen</td>\n",
       "      <td>Germany</td>\n",
       "      <td>village</td>\n",
       "      <td>1958</td>\n",
       "    </tr>\n",
       "    <tr>\n",
       "      <th>1</th>\n",
       "      <td>Haus Nr. 67</td>\n",
       "      <td>Bargfeld</td>\n",
       "      <td>Niedersachsen</td>\n",
       "      <td>Germany</td>\n",
       "      <td>village</td>\n",
       "      <td>1959</td>\n",
       "    </tr>\n",
       "    <tr>\n",
       "      <th>2</th>\n",
       "      <td>Haus Nr. 67</td>\n",
       "      <td>Bargfeld</td>\n",
       "      <td>Niedersachsen</td>\n",
       "      <td>Germany</td>\n",
       "      <td>village</td>\n",
       "      <td>1960</td>\n",
       "    </tr>\n",
       "    <tr>\n",
       "      <th>3</th>\n",
       "      <td>Haus Nr. 67</td>\n",
       "      <td>Bargfeld</td>\n",
       "      <td>Niedersachsen</td>\n",
       "      <td>Germany</td>\n",
       "      <td>village</td>\n",
       "      <td>1961</td>\n",
       "    </tr>\n",
       "    <tr>\n",
       "      <th>4</th>\n",
       "      <td>Haus Nr. 67</td>\n",
       "      <td>Bargfeld</td>\n",
       "      <td>Niedersachsen</td>\n",
       "      <td>Germany</td>\n",
       "      <td>village</td>\n",
       "      <td>1962</td>\n",
       "    </tr>\n",
       "    <tr>\n",
       "      <th>5</th>\n",
       "      <td>Haus Nr. 67</td>\n",
       "      <td>Bargfeld</td>\n",
       "      <td>Niedersachsen</td>\n",
       "      <td>Germany</td>\n",
       "      <td>village</td>\n",
       "      <td>1963</td>\n",
       "    </tr>\n",
       "    <tr>\n",
       "      <th>6</th>\n",
       "      <td>Haus Nr. 67</td>\n",
       "      <td>Bargfeld</td>\n",
       "      <td>Niedersachsen</td>\n",
       "      <td>Germany</td>\n",
       "      <td>village</td>\n",
       "      <td>1964</td>\n",
       "    </tr>\n",
       "    <tr>\n",
       "      <th>7</th>\n",
       "      <td>Haus Nr. 67</td>\n",
       "      <td>Bargfeld</td>\n",
       "      <td>Niedersachsen</td>\n",
       "      <td>Germany</td>\n",
       "      <td>village</td>\n",
       "      <td>1965</td>\n",
       "    </tr>\n",
       "    <tr>\n",
       "      <th>8</th>\n",
       "      <td>Haus Nr. 67</td>\n",
       "      <td>Bargfeld</td>\n",
       "      <td>Niedersachsen</td>\n",
       "      <td>Germany</td>\n",
       "      <td>village</td>\n",
       "      <td>1966</td>\n",
       "    </tr>\n",
       "    <tr>\n",
       "      <th>9</th>\n",
       "      <td>Haus Nr. 67</td>\n",
       "      <td>Bargfeld</td>\n",
       "      <td>Niedersachsen</td>\n",
       "      <td>Germany</td>\n",
       "      <td>village</td>\n",
       "      <td>1967</td>\n",
       "    </tr>\n",
       "    <tr>\n",
       "      <th>10</th>\n",
       "      <td>Haus Nr. 67</td>\n",
       "      <td>Bargfeld</td>\n",
       "      <td>Niedersachsen</td>\n",
       "      <td>Germany</td>\n",
       "      <td>village</td>\n",
       "      <td>1968</td>\n",
       "    </tr>\n",
       "    <tr>\n",
       "      <th>11</th>\n",
       "      <td>Haus Nr. 67</td>\n",
       "      <td>Bargfeld</td>\n",
       "      <td>Niedersachsen</td>\n",
       "      <td>Germany</td>\n",
       "      <td>village</td>\n",
       "      <td>1969</td>\n",
       "    </tr>\n",
       "    <tr>\n",
       "      <th>12</th>\n",
       "      <td>Haus Nr. 67</td>\n",
       "      <td>Bargfeld</td>\n",
       "      <td>Niedersachsen</td>\n",
       "      <td>Germany</td>\n",
       "      <td>village</td>\n",
       "      <td>1970</td>\n",
       "    </tr>\n",
       "    <tr>\n",
       "      <th>13</th>\n",
       "      <td>Haus Nr. 67</td>\n",
       "      <td>Bargfeld</td>\n",
       "      <td>Niedersachsen</td>\n",
       "      <td>Germany</td>\n",
       "      <td>village</td>\n",
       "      <td>1971</td>\n",
       "    </tr>\n",
       "    <tr>\n",
       "      <th>14</th>\n",
       "      <td>Haus Nr. 67</td>\n",
       "      <td>Bargfeld</td>\n",
       "      <td>Niedersachsen</td>\n",
       "      <td>Germany</td>\n",
       "      <td>village</td>\n",
       "      <td>1972</td>\n",
       "    </tr>\n",
       "    <tr>\n",
       "      <th>15</th>\n",
       "      <td>Haus Nr. 67</td>\n",
       "      <td>Bargfeld</td>\n",
       "      <td>Niedersachsen</td>\n",
       "      <td>Germany</td>\n",
       "      <td>village</td>\n",
       "      <td>1973</td>\n",
       "    </tr>\n",
       "    <tr>\n",
       "      <th>16</th>\n",
       "      <td>Haus Nr. 67</td>\n",
       "      <td>Bargfeld</td>\n",
       "      <td>Niedersachsen</td>\n",
       "      <td>Germany</td>\n",
       "      <td>village</td>\n",
       "      <td>1974</td>\n",
       "    </tr>\n",
       "    <tr>\n",
       "      <th>17</th>\n",
       "      <td>Haus Nr. 67</td>\n",
       "      <td>Bargfeld</td>\n",
       "      <td>Niedersachsen</td>\n",
       "      <td>Germany</td>\n",
       "      <td>village</td>\n",
       "      <td>1975</td>\n",
       "    </tr>\n",
       "    <tr>\n",
       "      <th>18</th>\n",
       "      <td>Haus Nr. 67</td>\n",
       "      <td>Bargfeld</td>\n",
       "      <td>Niedersachsen</td>\n",
       "      <td>Germany</td>\n",
       "      <td>village</td>\n",
       "      <td>1976</td>\n",
       "    </tr>\n",
       "    <tr>\n",
       "      <th>19</th>\n",
       "      <td>Haus Nr. 67</td>\n",
       "      <td>Bargfeld</td>\n",
       "      <td>Niedersachsen</td>\n",
       "      <td>Germany</td>\n",
       "      <td>village</td>\n",
       "      <td>1977</td>\n",
       "    </tr>\n",
       "    <tr>\n",
       "      <th>20</th>\n",
       "      <td>Haus Nr. 67</td>\n",
       "      <td>Bargfeld</td>\n",
       "      <td>Niedersachsen</td>\n",
       "      <td>Germany</td>\n",
       "      <td>village</td>\n",
       "      <td>1978</td>\n",
       "    </tr>\n",
       "  </tbody>\n",
       "</table>\n",
       "</div>"
      ],
      "text/plain": [
       "        address   location            state  country category  year\n",
       "0     Mühlenhof  Cordingen    Niedersachsen  Germany  village  1945\n",
       "1     Mühlenhof  Cordingen    Niedersachsen  Germany  village  1946\n",
       "2     Mühlenhof  Cordingen    Niedersachsen  Germany  village  1947\n",
       "3     Mühlenhof  Cordingen    Niedersachsen  Germany  village  1948\n",
       "4     Mühlenhof  Cordingen    Niedersachsen  Germany  village  1949\n",
       "5     Mühlenhof  Cordingen    Niedersachsen  Germany  village  1950\n",
       "0   Haus Nr. 63     Kastel  Rheinland-Pfalz  Germany  village  1951\n",
       "1   Haus Nr. 63     Kastel  Rheinland-Pfalz  Germany  village  1952\n",
       "2   Haus Nr. 63     Kastel  Rheinland-Pfalz  Germany  village  1953\n",
       "3   Haus Nr. 63     Kastel  Rheinland-Pfalz  Germany  village  1954\n",
       "4   Haus Nr. 63     Kastel  Rheinland-Pfalz  Germany  village  1955\n",
       "0   Inselstraße  Darmstadt           Hessen  Germany     city  1956\n",
       "1   Inselstraße  Darmstadt           Hessen  Germany     city  1957\n",
       "2   Inselstraße  Darmstadt           Hessen  Germany     city  1958\n",
       "0   Haus Nr. 67   Bargfeld    Niedersachsen  Germany  village  1958\n",
       "1   Haus Nr. 67   Bargfeld    Niedersachsen  Germany  village  1959\n",
       "2   Haus Nr. 67   Bargfeld    Niedersachsen  Germany  village  1960\n",
       "3   Haus Nr. 67   Bargfeld    Niedersachsen  Germany  village  1961\n",
       "4   Haus Nr. 67   Bargfeld    Niedersachsen  Germany  village  1962\n",
       "5   Haus Nr. 67   Bargfeld    Niedersachsen  Germany  village  1963\n",
       "6   Haus Nr. 67   Bargfeld    Niedersachsen  Germany  village  1964\n",
       "7   Haus Nr. 67   Bargfeld    Niedersachsen  Germany  village  1965\n",
       "8   Haus Nr. 67   Bargfeld    Niedersachsen  Germany  village  1966\n",
       "9   Haus Nr. 67   Bargfeld    Niedersachsen  Germany  village  1967\n",
       "10  Haus Nr. 67   Bargfeld    Niedersachsen  Germany  village  1968\n",
       "11  Haus Nr. 67   Bargfeld    Niedersachsen  Germany  village  1969\n",
       "12  Haus Nr. 67   Bargfeld    Niedersachsen  Germany  village  1970\n",
       "13  Haus Nr. 67   Bargfeld    Niedersachsen  Germany  village  1971\n",
       "14  Haus Nr. 67   Bargfeld    Niedersachsen  Germany  village  1972\n",
       "15  Haus Nr. 67   Bargfeld    Niedersachsen  Germany  village  1973\n",
       "16  Haus Nr. 67   Bargfeld    Niedersachsen  Germany  village  1974\n",
       "17  Haus Nr. 67   Bargfeld    Niedersachsen  Germany  village  1975\n",
       "18  Haus Nr. 67   Bargfeld    Niedersachsen  Germany  village  1976\n",
       "19  Haus Nr. 67   Bargfeld    Niedersachsen  Germany  village  1977\n",
       "20  Haus Nr. 67   Bargfeld    Niedersachsen  Germany  village  1978"
      ]
     },
     "execution_count": 104,
     "metadata": {},
     "output_type": "execute_result"
    }
   ],
   "source": [
    "locations_2 = locations.drop(locations.index[0:10])\n",
    "locations_2 = locations_2.drop(locations.index[11])\n",
    "locations_2 = locations_2.reset_index().drop(columns = \"index\")\n",
    "\n",
    "def function_years(r1, r2):\n",
    "    list_1 = []\n",
    "    for x in range(r1, r2):\n",
    "        list_1.append(x)\n",
    "    return list_1\n",
    "\n",
    "list_1945 = function_years(1945, 1951)\n",
    "list_1951 = function_years(1951, 1956)\n",
    "list_1955 = function_years(1956, 1959)\n",
    "list_1958 = function_years(1958, 1979)\n",
    "\n",
    "def function_array(pos, list_2):\n",
    "    array_1 = locations_2.iloc[pos].to_numpy()\n",
    "    array_1 = np.tile(array_1, (len(list_2),1))\n",
    "    array_1 = pd.DataFrame(array_1)\n",
    "    array_1.columns = [\"address\", \"location\", \"state\", \"country\", \"category\", \"moved_in\", \"moved_out\"]\n",
    "    array_1 = array_1.drop(columns = \"moved_in\")\n",
    "    array_1 = array_1.drop(columns = \"moved_out\")\n",
    "    return array_1\n",
    "    \n",
    "locations_3 = function_array(0, list_1945)\n",
    "locations_3 = locations_3.append(function_array(1, list_1951))\n",
    "locations_3 = locations_3.append(function_array(2, list_1955))\n",
    "locations_3 = locations_3.append(function_array(3, list_1958))\n",
    "\n",
    "locations_3[\"year\"] = list_1945 + list_1951 + list_1955 + list_1958\n",
    "locations_3"
   ]
  },
  {
   "cell_type": "code",
   "execution_count": 9,
   "metadata": {},
   "outputs": [],
   "source": [
    "writer = pd.ExcelWriter('output.xlsx')\n",
    "locations_3.to_excel(writer)\n",
    "writer.save()"
   ]
  },
  {
   "cell_type": "code",
   "execution_count": 15,
   "metadata": {},
   "outputs": [],
   "source": [
    "writer = pd.ExcelWriter('output_2.xlsx')\n",
    "works_grouped.to_excel(writer)\n",
    "writer.save()"
   ]
  },
  {
   "cell_type": "code",
   "execution_count": 20,
   "metadata": {},
   "outputs": [
    {
     "data": {
      "text/html": [
       "<div>\n",
       "<style scoped>\n",
       "    .dataframe tbody tr th:only-of-type {\n",
       "        vertical-align: middle;\n",
       "    }\n",
       "\n",
       "    .dataframe tbody tr th {\n",
       "        vertical-align: top;\n",
       "    }\n",
       "\n",
       "    .dataframe thead th {\n",
       "        text-align: right;\n",
       "    }\n",
       "</style>\n",
       "<table border=\"1\" class=\"dataframe\">\n",
       "  <thead>\n",
       "    <tr style=\"text-align: right;\">\n",
       "      <th></th>\n",
       "      <th>address</th>\n",
       "      <th>location</th>\n",
       "      <th>state</th>\n",
       "      <th>country</th>\n",
       "      <th>category</th>\n",
       "      <th>year</th>\n",
       "      <th>title</th>\n",
       "    </tr>\n",
       "  </thead>\n",
       "  <tbody>\n",
       "    <tr>\n",
       "      <th>0</th>\n",
       "      <td>Mühlenhof</td>\n",
       "      <td>Cordingen</td>\n",
       "      <td>Niedersachsen</td>\n",
       "      <td>Germany</td>\n",
       "      <td>village</td>\n",
       "      <td>1945</td>\n",
       "      <td>NaN</td>\n",
       "    </tr>\n",
       "    <tr>\n",
       "      <th>1</th>\n",
       "      <td>Mühlenhof</td>\n",
       "      <td>Cordingen</td>\n",
       "      <td>Niedersachsen</td>\n",
       "      <td>Germany</td>\n",
       "      <td>village</td>\n",
       "      <td>1946</td>\n",
       "      <td>NaN</td>\n",
       "    </tr>\n",
       "    <tr>\n",
       "      <th>2</th>\n",
       "      <td>Mühlenhof</td>\n",
       "      <td>Cordingen</td>\n",
       "      <td>Niedersachsen</td>\n",
       "      <td>Germany</td>\n",
       "      <td>village</td>\n",
       "      <td>1947</td>\n",
       "      <td>NaN</td>\n",
       "    </tr>\n",
       "    <tr>\n",
       "      <th>3</th>\n",
       "      <td>Mühlenhof</td>\n",
       "      <td>Cordingen</td>\n",
       "      <td>Niedersachsen</td>\n",
       "      <td>Germany</td>\n",
       "      <td>village</td>\n",
       "      <td>1948</td>\n",
       "      <td>NaN</td>\n",
       "    </tr>\n",
       "    <tr>\n",
       "      <th>4</th>\n",
       "      <td>Mühlenhof</td>\n",
       "      <td>Cordingen</td>\n",
       "      <td>Niedersachsen</td>\n",
       "      <td>Germany</td>\n",
       "      <td>village</td>\n",
       "      <td>1949</td>\n",
       "      <td>2.0</td>\n",
       "    </tr>\n",
       "  </tbody>\n",
       "</table>\n",
       "</div>"
      ],
      "text/plain": [
       "     address   location          state  country category  year  title\n",
       "0  Mühlenhof  Cordingen  Niedersachsen  Germany  village  1945    NaN\n",
       "1  Mühlenhof  Cordingen  Niedersachsen  Germany  village  1946    NaN\n",
       "2  Mühlenhof  Cordingen  Niedersachsen  Germany  village  1947    NaN\n",
       "3  Mühlenhof  Cordingen  Niedersachsen  Germany  village  1948    NaN\n",
       "4  Mühlenhof  Cordingen  Niedersachsen  Germany  village  1949    2.0"
      ]
     },
     "execution_count": 20,
     "metadata": {},
     "output_type": "execute_result"
    }
   ],
   "source": [
    "locations_works = pd.read_csv('C:/Users/sched/Documents/Uni/Digital Humanities/UE - Introduction to DH Tools and Methods/Own Dataset/Arno Schmidt_locations_2.csv', sep =';')\n",
    "locations_works.head().drop(columns = \"Unnamed: 0\")"
   ]
  },
  {
   "cell_type": "code",
   "execution_count": 30,
   "metadata": {},
   "outputs": [
    {
     "data": {
      "text/plain": [
       "<seaborn.axisgrid.FacetGrid at 0x2a8c8bfb640>"
      ]
     },
     "execution_count": 30,
     "metadata": {},
     "output_type": "execute_result"
    },
    {
     "data": {
      "image/png": "[encoded data removed]",
      "text/plain": [
       "<Figure size 864x216 with 4 Axes>"
      ]
     },
     "metadata": {
      "needs_background": "light"
     },
     "output_type": "display_data"
    }
   ],
   "source": [
    "grid = sb.FacetGrid(locations_works, col=\"location\", hue=\"category\")\n",
    "grid.map(plt.plot, \"year\", marker=\"o\")"
   ]
  },
  {
   "cell_type": "code",
   "execution_count": 41,
   "metadata": {},
   "outputs": [
    {
     "data": {
      "text/plain": [
       "<seaborn.axisgrid.FacetGrid at 0x2a8c8bfb640>"
      ]
     },
     "execution_count": 41,
     "metadata": {},
     "output_type": "execute_result"
    },
    {
     "data": {
      "image/png": "[encoded data removed]",
      "text/plain": [
       "<Figure size 864x216 with 4 Axes>"
      ]
     },
     "metadata": {
      "needs_background": "light"
     },
     "output_type": "display_data"
    }
   ],
   "source": [
    "grid_2 = sb.FacetGrid(locations_works, col=\"year\", hue=\"category\")\n",
    "grid.map(sb.scatterplot, x= \"year\", y= \"title\", data = locations_works)"
   ]
  },
  {
   "cell_type": "code",
   "execution_count": 49,
   "metadata": {},
   "outputs": [
    {
     "data": {
      "image/png": "[encoded data removed]",
      "text/plain": [
       "<Figure size 432x288 with 1 Axes>"
      ]
     },
     "metadata": {
      "needs_background": "light"
     },
     "output_type": "display_data"
    }
   ],
   "source": [
    "locations_works_grouped = locations_works.groupby(\"location\").count().reset_index(\"location\")\n",
    "plt.title(\"Works per location\")\n",
    "vis5 = sb.barplot(x= \"location\", y= \"title\", data = locations_works_grouped)"
   ]
  },
  {
   "cell_type": "code",
   "execution_count": 96,
   "metadata": {},
   "outputs": [
    {
     "data": {
      "text/plain": [
       "[1951, 1952, 1953, 1954, 1955]"
      ]
     },
     "execution_count": 96,
     "metadata": {},
     "output_type": "execute_result"
    }
   ],
   "source": [
    "list_1951"
   ]
  },
  {
   "cell_type": "code",
   "execution_count": null,
   "metadata": {},
   "outputs": [],
   "source": []
  }
 ],
 "metadata": {
  "kernelspec": {
   "display_name": "Python 3",
   "language": "python",
   "name": "python3"
  },
  "language_info": {
   "codemirror_mode": {
    "name": "ipython",
    "version": 3
   },
   "file_extension": ".py",
   "mimetype": "text/x-python",
   "name": "python",
   "nbconvert_exporter": "python",
   "pygments_lexer": "ipython3",
   "version": "3.8.5"
  }
 },
 "nbformat": 4,
 "nbformat_minor": 4
}
