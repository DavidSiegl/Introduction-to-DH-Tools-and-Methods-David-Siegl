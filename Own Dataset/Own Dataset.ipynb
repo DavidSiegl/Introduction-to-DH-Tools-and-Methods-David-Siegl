{
 "cells": [
  {
   "cell_type": "code",
   "execution_count": 1,
   "metadata": {},
   "outputs": [],
   "source": [
    "import pandas as pd\n",
    "import matplotlib.pyplot as plt\n",
    "import seaborn as sb"
   ]
  },
  {
   "cell_type": "code",
   "execution_count": 2,
   "metadata": {},
   "outputs": [],
   "source": [
    "locations = pd.read_csv('C:/Users/sched/Documents/Uni/Digital Humanities/UE - Introduction to DH Tools and Methods/Own Dataset/Arno Schmidt_locations.csv', sep =';')\n",
    "\n",
    "works = pd.read_csv('C:/Users/sched/Documents/Uni/Digital Humanities/UE - Introduction to DH Tools and Methods/Own Dataset/Arno Schmidt_works.csv', sep = ';')"
   ]
  },
  {
   "cell_type": "code",
   "execution_count": 3,
   "metadata": {},
   "outputs": [
    {
     "data": {
      "text/html": [
       "<div>\n",
       "<style scoped>\n",
       "    .dataframe tbody tr th:only-of-type {\n",
       "        vertical-align: middle;\n",
       "    }\n",
       "\n",
       "    .dataframe tbody tr th {\n",
       "        vertical-align: top;\n",
       "    }\n",
       "\n",
       "    .dataframe thead th {\n",
       "        text-align: right;\n",
       "    }\n",
       "</style>\n",
       "<table border=\"1\" class=\"dataframe\">\n",
       "  <thead>\n",
       "    <tr style=\"text-align: right;\">\n",
       "      <th></th>\n",
       "      <th>address</th>\n",
       "      <th>location</th>\n",
       "      <th>state</th>\n",
       "      <th>country</th>\n",
       "      <th>category</th>\n",
       "      <th>moved_in</th>\n",
       "      <th>moved_out</th>\n",
       "    </tr>\n",
       "  </thead>\n",
       "  <tbody>\n",
       "    <tr>\n",
       "      <th>0</th>\n",
       "      <td>Rumpffsweg 27</td>\n",
       "      <td>Hamm</td>\n",
       "      <td>Nordrhein-Westfalen</td>\n",
       "      <td>Germany</td>\n",
       "      <td>city</td>\n",
       "      <td>1914</td>\n",
       "      <td>1928</td>\n",
       "    </tr>\n",
       "    <tr>\n",
       "      <th>1</th>\n",
       "      <td>Laubaner Walkgasse 12</td>\n",
       "      <td>Lauban</td>\n",
       "      <td>Schlesien</td>\n",
       "      <td>Prussia</td>\n",
       "      <td>city</td>\n",
       "      <td>1928</td>\n",
       "      <td>1938</td>\n",
       "    </tr>\n",
       "    <tr>\n",
       "      <th>2</th>\n",
       "      <td>Greiffenberger Schützenstraße 4</td>\n",
       "      <td>Greiffenberg</td>\n",
       "      <td>Niederschlesien</td>\n",
       "      <td>Prussia</td>\n",
       "      <td>city</td>\n",
       "      <td>1938</td>\n",
       "      <td>1940</td>\n",
       "    </tr>\n",
       "    <tr>\n",
       "      <th>3</th>\n",
       "      <td>Arras-Kaserne</td>\n",
       "      <td>Hirschberg</td>\n",
       "      <td>Sudetenland</td>\n",
       "      <td>Germany</td>\n",
       "      <td>city</td>\n",
       "      <td>1940</td>\n",
       "      <td>1941</td>\n",
       "    </tr>\n",
       "    <tr>\n",
       "      <th>4</th>\n",
       "      <td>Garnison Hagenau</td>\n",
       "      <td>Hagenau</td>\n",
       "      <td>Elsass</td>\n",
       "      <td>Germany</td>\n",
       "      <td>city</td>\n",
       "      <td>1941</td>\n",
       "      <td>1941</td>\n",
       "    </tr>\n",
       "  </tbody>\n",
       "</table>\n",
       "</div>"
      ],
      "text/plain": [
       "                           address      location                state  \\\n",
       "0                    Rumpffsweg 27          Hamm  Nordrhein-Westfalen   \n",
       "1            Laubaner Walkgasse 12        Lauban            Schlesien   \n",
       "2  Greiffenberger Schützenstraße 4  Greiffenberg      Niederschlesien   \n",
       "3                    Arras-Kaserne    Hirschberg          Sudetenland   \n",
       "4                 Garnison Hagenau       Hagenau               Elsass   \n",
       "\n",
       "   country category  moved_in  moved_out  \n",
       "0  Germany     city      1914       1928  \n",
       "1  Prussia     city      1928       1938  \n",
       "2  Prussia     city      1938       1940  \n",
       "3  Germany     city      1940       1941  \n",
       "4  Germany     city      1941       1941  "
      ]
     },
     "execution_count": 3,
     "metadata": {},
     "output_type": "execute_result"
    }
   ],
   "source": [
    "locations.head()"
   ]
  },
  {
   "cell_type": "code",
   "execution_count": 77,
   "metadata": {},
   "outputs": [
    {
     "data": {
      "text/html": [
       "<div>\n",
       "<style scoped>\n",
       "    .dataframe tbody tr th:only-of-type {\n",
       "        vertical-align: middle;\n",
       "    }\n",
       "\n",
       "    .dataframe tbody tr th {\n",
       "        vertical-align: top;\n",
       "    }\n",
       "\n",
       "    .dataframe thead th {\n",
       "        text-align: right;\n",
       "    }\n",
       "</style>\n",
       "<table border=\"1\" class=\"dataframe\">\n",
       "  <thead>\n",
       "    <tr style=\"text-align: right;\">\n",
       "      <th></th>\n",
       "      <th>title</th>\n",
       "      <th>year</th>\n",
       "      <th>reference_location</th>\n",
       "      <th>protagonist</th>\n",
       "    </tr>\n",
       "  </thead>\n",
       "  <tbody>\n",
       "    <tr>\n",
       "      <th>0</th>\n",
       "      <td>Gadir oder erkenne dich</td>\n",
       "      <td>1949</td>\n",
       "      <td>dungeon</td>\n",
       "      <td>dreams about escaping from dungeon</td>\n",
       "    </tr>\n",
       "    <tr>\n",
       "      <th>1</th>\n",
       "      <td>Enthymesis</td>\n",
       "      <td>1949</td>\n",
       "      <td>desert</td>\n",
       "      <td>escapes on his own into the desert</td>\n",
       "    </tr>\n",
       "    <tr>\n",
       "      <th>2</th>\n",
       "      <td>Brand's Haide</td>\n",
       "      <td>1951</td>\n",
       "      <td>village Blakenhof</td>\n",
       "      <td>spends his time after the war in the rural are...</td>\n",
       "    </tr>\n",
       "    <tr>\n",
       "      <th>3</th>\n",
       "      <td>Schwarze Spiegel</td>\n",
       "      <td>1951</td>\n",
       "      <td>deserted wasteland</td>\n",
       "      <td>wanders through a fictious German wasteland af...</td>\n",
       "    </tr>\n",
       "    <tr>\n",
       "      <th>4</th>\n",
       "      <td>Aus dem Leben eines Fauns</td>\n",
       "      <td>1953</td>\n",
       "      <td>abandoned cottage</td>\n",
       "      <td>retreats into an abandoned cottage</td>\n",
       "    </tr>\n",
       "  </tbody>\n",
       "</table>\n",
       "</div>"
      ],
      "text/plain": [
       "                       title  year  reference_location  \\\n",
       "0    Gadir oder erkenne dich  1949             dungeon   \n",
       "1                 Enthymesis  1949              desert   \n",
       "2              Brand's Haide  1951   village Blakenhof   \n",
       "3           Schwarze Spiegel  1951  deserted wasteland   \n",
       "4  Aus dem Leben eines Fauns  1953   abandoned cottage   \n",
       "\n",
       "                                        protagonist   \n",
       "0                 dreams about escaping from dungeon  \n",
       "1                 escapes on his own into the desert  \n",
       "2  spends his time after the war in the rural are...  \n",
       "3  wanders through a fictious German wasteland af...  \n",
       "4                 retreats into an abandoned cottage  "
      ]
     },
     "execution_count": 77,
     "metadata": {},
     "output_type": "execute_result"
    }
   ],
   "source": [
    "works.head()"
   ]
  },
  {
   "cell_type": "code",
   "execution_count": 5,
   "metadata": {},
   "outputs": [
    {
     "data": {
      "image/png": "[encoded data removed]",
      "text/plain": [
       "<Figure size 432x288 with 1 Axes>"
      ]
     },
     "metadata": {},
     "output_type": "display_data"
    }
   ],
   "source": [
    "sb.set_theme(style=\"whitegrid\")\n",
    "plt.title(\"Duration per country\")\n",
    "locations['duration'] = locations.moved_out - locations.moved_in\n",
    "vis1 = sb.barplot(x=\"country\", y=\"duration\", data = locations, estimator = sum)\n",
    "vis1.set_xticklabels(vis1.get_xticklabels(), rotation=40, ha=\"right\")\n",
    "plt.tight_layout()\n",
    "plt.show()"
   ]
  },
  {
   "cell_type": "code",
   "execution_count": 10,
   "metadata": {},
   "outputs": [
    {
     "data": {
      "image/png": "[encoded data removed]",
      "text/plain": [
       "<Figure size 432x288 with 1 Axes>"
      ]
     },
     "metadata": {},
     "output_type": "display_data"
    }
   ],
   "source": [
    "locations_without_0 = locations[locations.duration != 0]\n",
    "plt.title(\"Duration per location\")\n",
    "vis2 = sb.barplot(x=\"location\", y=\"duration\", data = locations_without_0, estimator = sum, hue = \"category\")\n",
    "vis2.set_xticklabels(vis2.get_xticklabels(), rotation=40, ha=\"right\")\n",
    "plt.tight_layout()\n",
    "plt.show()"
   ]
  },
  {
   "cell_type": "code",
   "execution_count": 8,
   "metadata": {},
   "outputs": [
    {
     "data": {
      "image/png": "[encoded data removed]",
      "text/plain": [
       "<Figure size 432x288 with 1 Axes>"
      ]
     },
     "metadata": {},
     "output_type": "display_data"
    }
   ],
   "source": [
    "locations_without_0 = locations[locations.duration != 0]\n",
    "plt.title(\"Duration per state\")\n",
    "vis3 = sb.barplot(x=\"state\", y=\"duration\", data = locations_without_0, estimator = sum)\n",
    "vis3.set_xticklabels(vis3.get_xticklabels(), rotation=40, ha=\"right\")\n",
    "plt.tight_layout()\n",
    "plt.show()"
   ]
  },
  {
   "cell_type": "code",
   "execution_count": 16,
   "metadata": {},
   "outputs": [
    {
     "data": {
      "image/png": "[encoded data removed]",
      "text/plain": [
       "<Figure size 432x288 with 1 Axes>"
      ]
     },
     "metadata": {},
     "output_type": "display_data"
    }
   ],
   "source": [
    "works_grouped = works.groupby(\"year\").count().reset_index(\"year\")\n",
    "works_grouped\n",
    "plt.title(\"Number of works per year\")\n",
    "vis4 = sb.barplot(x=\"year\", y=\"title\", data = works_grouped, palette=\"dark\")\n",
    "vis4.set_xticklabels(vis4.get_xticklabels(), rotation=40, ha=\"right\")\n",
    "plt.tight_layout()\n",
    "plt.ylabel(\"works\")\n",
    "plt.show()"
   ]
  },
  {
   "cell_type": "code",
   "execution_count": 106,
   "metadata": {},
   "outputs": [
    {
     "data": {
      "text/html": [
       "<div>\n",
       "<style scoped>\n",
       "    .dataframe tbody tr th:only-of-type {\n",
       "        vertical-align: middle;\n",
       "    }\n",
       "\n",
       "    .dataframe tbody tr th {\n",
       "        vertical-align: top;\n",
       "    }\n",
       "\n",
       "    .dataframe thead th {\n",
       "        text-align: right;\n",
       "    }\n",
       "</style>\n",
       "<table border=\"1\" class=\"dataframe\">\n",
       "  <thead>\n",
       "    <tr style=\"text-align: right;\">\n",
       "      <th></th>\n",
       "      <th>title</th>\n",
       "      <th>year</th>\n",
       "      <th>reference_location</th>\n",
       "      <th>protagonist</th>\n",
       "      <th>bargfeld</th>\n",
       "    </tr>\n",
       "  </thead>\n",
       "  <tbody>\n",
       "    <tr>\n",
       "      <th>13</th>\n",
       "      <td>Kaff auch Mare Crisium</td>\n",
       "      <td>1960</td>\n",
       "      <td>Bargfeld</td>\n",
       "      <td>dreams about owning a house in Bargfeld</td>\n",
       "      <td>True</td>\n",
       "    </tr>\n",
       "    <tr>\n",
       "      <th>15</th>\n",
       "      <td>Windmühlen</td>\n",
       "      <td>1960</td>\n",
       "      <td>south of Bargfeld</td>\n",
       "      <td>wanders with a friend through the countryside</td>\n",
       "      <td>True</td>\n",
       "    </tr>\n",
       "    <tr>\n",
       "      <th>20</th>\n",
       "      <td>Piporakemes!</td>\n",
       "      <td>1962</td>\n",
       "      <td>house in Bargfeld</td>\n",
       "      <td>owns a house in Bargfeld</td>\n",
       "      <td>True</td>\n",
       "    </tr>\n",
       "    <tr>\n",
       "      <th>24</th>\n",
       "      <td>Abend mit Goldrand</td>\n",
       "      <td>1975</td>\n",
       "      <td>house in Bargfeld</td>\n",
       "      <td>lives with other seniors in a house at the edg...</td>\n",
       "      <td>True</td>\n",
       "    </tr>\n",
       "  </tbody>\n",
       "</table>\n",
       "</div>"
      ],
      "text/plain": [
       "                     title  year reference_location  \\\n",
       "13  Kaff auch Mare Crisium  1960           Bargfeld   \n",
       "15              Windmühlen  1960  south of Bargfeld   \n",
       "20            Piporakemes!  1962  house in Bargfeld   \n",
       "24      Abend mit Goldrand  1975  house in Bargfeld   \n",
       "\n",
       "                                         protagonist   bargfeld  \n",
       "13            dreams about owning a house in Bargfeld      True  \n",
       "15      wanders with a friend through the countryside      True  \n",
       "20                           owns a house in Bargfeld      True  \n",
       "24  lives with other seniors in a house at the edg...      True  "
      ]
     },
     "execution_count": 106,
     "metadata": {},
     "output_type": "execute_result"
    }
   ],
   "source": [
    "works['bargfeld'] = works.reference_location.str.contains('Bargfeld')\n",
    "works.loc[works['bargfeld'] == True]"
   ]
  },
  {
   "cell_type": "code",
   "execution_count": 17,
   "metadata": {},
   "outputs": [],
   "source": [
    "city = locations.loc[locations['category'] == \"city\"].groupby(\"category\")[\"address\"].count().reset_index(\"category\")\n",
    "city"
   ]
  },
  {
   "cell_type": "code",
   "execution_count": 14,
   "metadata": {},
   "outputs": [
    {
     "data": {
      "text/html": [
       "<div>\n",
       "<style scoped>\n",
       "    .dataframe tbody tr th:only-of-type {\n",
       "        vertical-align: middle;\n",
       "    }\n",
       "\n",
       "    .dataframe tbody tr th {\n",
       "        vertical-align: top;\n",
       "    }\n",
       "\n",
       "    .dataframe thead th {\n",
       "        text-align: right;\n",
       "    }\n",
       "</style>\n",
       "<table border=\"1\" class=\"dataframe\">\n",
       "  <thead>\n",
       "    <tr style=\"text-align: right;\">\n",
       "      <th></th>\n",
       "      <th>category</th>\n",
       "      <th>address</th>\n",
       "    </tr>\n",
       "  </thead>\n",
       "  <tbody>\n",
       "    <tr>\n",
       "      <th>0</th>\n",
       "      <td>village</td>\n",
       "      <td>4</td>\n",
       "    </tr>\n",
       "  </tbody>\n",
       "</table>\n",
       "</div>"
      ],
      "text/plain": [
       "  category  address\n",
       "0  village        4"
      ]
     },
     "execution_count": 14,
     "metadata": {},
     "output_type": "execute_result"
    }
   ],
   "source": [
    "village = locations.loc[locations['category'] == \"village\"].groupby(\"category\")[\"address\"].count().reset_index(\"category\")\n",
    "village"
   ]
  },
  {
   "cell_type": "code",
   "execution_count": 21,
   "metadata": {},
   "outputs": [
    {
     "data": {
      "text/html": [
       "<div>\n",
       "<style scoped>\n",
       "    .dataframe tbody tr th:only-of-type {\n",
       "        vertical-align: middle;\n",
       "    }\n",
       "\n",
       "    .dataframe tbody tr th {\n",
       "        vertical-align: top;\n",
       "    }\n",
       "\n",
       "    .dataframe thead th {\n",
       "        text-align: right;\n",
       "    }\n",
       "</style>\n",
       "<table border=\"1\" class=\"dataframe\">\n",
       "  <thead>\n",
       "    <tr style=\"text-align: right;\">\n",
       "      <th></th>\n",
       "      <th>category</th>\n",
       "      <th>duration</th>\n",
       "    </tr>\n",
       "  </thead>\n",
       "  <tbody>\n",
       "    <tr>\n",
       "      <th>0</th>\n",
       "      <td>city</td>\n",
       "      <td>31</td>\n",
       "    </tr>\n",
       "  </tbody>\n",
       "</table>\n",
       "</div>"
      ],
      "text/plain": [
       "  category  duration\n",
       "0     city        31"
      ]
     },
     "execution_count": 21,
     "metadata": {},
     "output_type": "execute_result"
    }
   ],
   "source": [
    "city_duration = locations.loc[locations['category'] == \"city\"].groupby(\"category\")[\"duration\"].sum().reset_index(\"category\")\n",
    "city_duration"
   ]
  },
  {
   "cell_type": "code",
   "execution_count": 23,
   "metadata": {},
   "outputs": [
    {
     "data": {
      "text/html": [
       "<div>\n",
       "<style scoped>\n",
       "    .dataframe tbody tr th:only-of-type {\n",
       "        vertical-align: middle;\n",
       "    }\n",
       "\n",
       "    .dataframe tbody tr th {\n",
       "        vertical-align: top;\n",
       "    }\n",
       "\n",
       "    .dataframe thead th {\n",
       "        text-align: right;\n",
       "    }\n",
       "</style>\n",
       "<table border=\"1\" class=\"dataframe\">\n",
       "  <thead>\n",
       "    <tr style=\"text-align: right;\">\n",
       "      <th></th>\n",
       "      <th>category</th>\n",
       "      <th>duration</th>\n",
       "    </tr>\n",
       "  </thead>\n",
       "  <tbody>\n",
       "    <tr>\n",
       "      <th>0</th>\n",
       "      <td>village</td>\n",
       "      <td>34</td>\n",
       "    </tr>\n",
       "  </tbody>\n",
       "</table>\n",
       "</div>"
      ],
      "text/plain": [
       "  category  duration\n",
       "0  village        34"
      ]
     },
     "execution_count": 23,
     "metadata": {},
     "output_type": "execute_result"
    }
   ],
   "source": [
    "village_duration = locations.loc[locations['category'] == \"village\"].groupby(\"category\")[\"duration\"].sum().reset_index(\"category\")\n",
    "village_duration"
   ]
  },
  {
   "cell_type": "code",
   "execution_count": null,
   "metadata": {},
   "outputs": [],
   "source": []
  }
 ],
 "metadata": {
  "kernelspec": {
   "display_name": "Python 3",
   "language": "python",
   "name": "python3"
  },
  "language_info": {
   "codemirror_mode": {
    "name": "ipython",
    "version": 3
   },
   "file_extension": ".py",
   "mimetype": "text/x-python",
   "name": "python",
   "nbconvert_exporter": "python",
   "pygments_lexer": "ipython3",
   "version": "3.8.5"
  }
 },
 "nbformat": 4,
 "nbformat_minor": 4
}
