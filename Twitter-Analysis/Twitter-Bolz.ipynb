{
 "cells": [
  {
   "cell_type": "code",
   "execution_count": 2,
   "metadata": {},
   "outputs": [],
   "source": [
    "import numpy as np\n",
    "import pandas as pd\n",
    "import twitter\n",
    "import nltk\n",
    "import re\n",
    "import oauth2 as oauth\n",
    "import tweepy\n",
    "import time\n",
    "import twint\n",
    "import nest_asyncio\n",
    "nest_asyncio.apply()"
   ]
  },
  {
   "cell_type": "code",
   "execution_count": 26,
   "metadata": {},
   "outputs": [],
   "source": [
    "api_key = \"E0kcW1Kx0GNc6doKP042WBVhA\"\n",
    "api_secret = \"FlWj4g7Vtbi6UKiFDSdMeSwTNnva2mG8DWEdgCKLX8t0PDyRGl\"\n",
    "access_token_key = \"1403330200285454340-JZnlzgjjc4TNNkGgeEgv6UnaVehKX3\"\n",
    "access_token_secret = \"uFYlateFrodReYw8a1hjt7YyQDFMM6g5fJ273P2e6tR77\"\n",
    "\n",
    "_debug = 0\n",
    "\n",
    "oauth_token = oauth.Token(key=access_token_key, secret=access_token_secret)\n",
    "oauth_consumer = oauth.Consumer(key=api_key, secret=api_secret)\n",
    "\n",
    "signature_method_hmac_sha1 = oauth.SignatureMethod_HMAC_SHA1()"
   ]
  },
  {
   "cell_type": "code",
   "execution_count": 27,
   "metadata": {},
   "outputs": [
    {
     "name": "stderr",
     "output_type": "stream",
     "text": [
      "C:\\Users\\sched\\anaconda\\lib\\codeop.py:141: RuntimeWarning: coroutine 'Twint.main' was never awaited\n",
      "  codeob = compile(source, filename, symbol, self.flags, 1)\n",
      "RuntimeWarning: Enable tracemalloc to get the object allocation traceback\n"
     ]
    },
    {
     "name": "stdout",
     "output_type": "stream",
     "text": [
      "failed on_status, name 'api' is not defined\n"
     ]
    }
   ],
   "source": [
    "username = '@NorbertBolz'\n",
    "count = 100\n",
    "try:     \n",
    "    tweets = tweepy.Cursor(api.user_timeline,id=username).items(count)\n",
    "    tweets_list = [[tweet.created_at, tweet.id, tweet.text] for tweet in tweets]\n",
    "    tweets_df = pd.DataFrame(tweets_list)\n",
    "    \n",
    "except BaseException as e:\n",
    "      print('failed on_status,',str(e))\n",
    "      time.sleep(3)"
   ]
  },
  {
   "cell_type": "code",
   "execution_count": null,
   "metadata": {},
   "outputs": [],
   "source": [
    "c = twint.Config()\n",
    "#c.Username = '@NorbertBolz'\n",
    "c.Search = \"covid\"\n",
    "#c.Output = 'bolz.txt'\n",
    "\n",
    "twint.run.Search(c)"
   ]
  },
  {
   "cell_type": "code",
   "execution_count": null,
   "metadata": {},
   "outputs": [
    {
     "name": "stderr",
     "output_type": "stream",
     "text": [
      "CRITICAL:root:twint.run:Twint:Feed:noDataExpecting value: line 1 column 1 (char 0)\n",
      "sleeping for 1.0 secs\n",
      "CRITICAL:root:twint.run:Twint:Feed:noDataExpecting value: line 1 column 1 (char 0)\n",
      "sleeping for 8.0 secs\n",
      "CRITICAL:root:twint.run:Twint:Feed:noDataExpecting value: line 1 column 1 (char 0)\n",
      "sleeping for 27.0 secs\n",
      "CRITICAL:root:twint.run:Twint:Feed:noDataExpecting value: line 1 column 1 (char 0)\n",
      "sleeping for 64.0 secs\n"
     ]
    }
   ],
   "source": [
    "c = twint.Config()\n",
    "c.Search = \"covid\"\n",
    "\n",
    "twint.run.Search(c)"
   ]
  },
  {
   "cell_type": "code",
   "execution_count": null,
   "metadata": {},
   "outputs": [],
   "source": []
  }
 ],
 "metadata": {
  "kernelspec": {
   "display_name": "Python 3",
   "language": "python",
   "name": "python3"
  },
  "language_info": {
   "codemirror_mode": {
    "name": "ipython",
    "version": 3
   },
   "file_extension": ".py",
   "mimetype": "text/x-python",
   "name": "python",
   "nbconvert_exporter": "python",
   "pygments_lexer": "ipython3",
   "version": "3.8.5"
  }
 },
 "nbformat": 4,
 "nbformat_minor": 4
}
